{
    "cells": [
        {
            "cell_type": "markdown",
            "source": [
                "# Interactive Estimator\n",
                "This estimator is designed to be an interactive calculator, where the user can input a set of parameters that match their situation, and see the comparisons between buying, building and renting."
            ],
            "metadata": {}
        },
        {
            "cell_type": "markdown",
            "source": [
                "## Layout \n",
                "- Costs\n",
                "  - We will assume that utilities are the same between the three types\n",
                "  - Buying costs\n",
                "    - Down payment\n",
                "    - Closing costs\n",
                "      - 2-5% of principle\n",
                "    - Property taxes\n",
                "    - Homeowners insurance\n",
                "    - HOA fees\n",
                "    - Maintenance\n",
                "      - $1 per sq. ft. or 1%\n",
                "  - Building costs\n",
                "    - Land\n",
                "    - Lot prep\n",
                "    - Construction\n",
                "    - Homeowners insurance\n",
                "    - HOA fees\n",
                "    - Maintenance\n",
                "      - Less than buying an existing house, for a time\n",
                "  - Renting costs\n",
                "    - Rent\n",
                "    - Renters insurance\n",
                "- Final investment value\n",
                "  - Buying\n",
                "    - The value of the home after appreciation, minus the total cumulative costs\n",
                "    - Selling and buying while moving will also need to be considered\n",
                "  - Building\n",
                "    - Same as buying, except building subsequent homes instead of purchasing a home\n",
                "  - Renting\n",
                "    - Value of the investment of the down payment and any periods in which the cost of buying or building is greater and the renter chooses to invest the difference\n",
                "- \n",
                "\n"
            ],
            "metadata": {}
        }
    ],
    "metadata": {
        "orig_nbformat": 4,
        "language_info": {
            "name": "python"
        }
    },
    "nbformat": 4,
    "nbformat_minor": 2
}