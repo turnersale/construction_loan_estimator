{
 "metadata": {
  "language_info": {
   "codemirror_mode": {
    "name": "ipython",
    "version": 3
   },
   "file_extension": ".py",
   "mimetype": "text/x-python",
   "name": "python",
   "nbconvert_exporter": "python",
   "pygments_lexer": "ipython3",
   "version": "3.7.4-final"
  },
  "orig_nbformat": 2,
  "kernelspec": {
   "name": "Python 3.7.4 64-bit ('base')",
   "display_name": "Python 3.7.4 64-bit ('base')",
   "metadata": {
    "interpreter": {
     "hash": "9a089a083118b65b50e6f86f853cd5466d99c8de47e3d579358c9e8b9d72b828"
    }
   }
  }
 },
 "nbformat": 4,
 "nbformat_minor": 2,
 "cells": [
  {
   "source": [
    "# Construction Loan Estimator\n",
    "\n",
    "## Parameters"
   ],
   "cell_type": "markdown",
   "metadata": {}
  },
  {
   "cell_type": "code",
   "execution_count": 1,
   "metadata": {},
   "outputs": [],
   "source": [
    "import pandas as pd\n",
    "import matplotlib.pyplot as plt\n",
    "from dateutil.relativedelta import relativedelta\n",
    "import datetime\n",
    "from pandas.tseries.offsets import DateOffset\n",
    "import numpy as np\n",
    "from math import e"
   ]
  },
  {
   "cell_type": "code",
   "execution_count": 16,
   "metadata": {},
   "outputs": [],
   "source": [
    "property_cost = 85000\n",
    "construction_cost = 115000\n",
    "loan_term = 15\n",
    "loan_term_months = loan_term * 12\n",
    "completed_value = 300000\n",
    "construction_term = 12\n",
    "down_payment = 40000\n",
    "inflation = 0.02\n",
    "closing_costs = 0.05\n",
    "square_footage = 1750\n",
    "assessment_rate = 0.07\n",
    "mill_levy = 95\n",
    "initial_rent = 1500\n",
    "initial_rent_year = initial_rent * 12\n",
    "rent_growth_rate = 0.02\n",
    "home_appreciation = 0.05\n",
    "home_appreciation_month = home_appreciation / 12\n",
    "current_month = datetime.date.today().replace(day=1)\n",
    "total_loan_amount = property_cost + construction_cost - down_payment\n",
    "loan_interest_rate = 0.04\n",
    "loan_rate_monthly = loan_interest_rate / 12"
   ]
  },
  {
   "cell_type": "code",
   "execution_count": 3,
   "metadata": {},
   "outputs": [],
   "source": [
    "# Create blank table for monthly level data\n",
    "monthly_data = pd.DataFrame()\n",
    "\n",
    "# Create Period to offset the index by one, to indicate month and create periods\n",
    "monthly_data['Overall Month'] = range(1, loan_term_months + construction_term + 2)\n",
    "monthly_data['Construction Month'] = np.where(monthly_data['Overall Month'] <= construction_term, monthly_data['Overall Month'], 0)\n",
    "monthly_data['Loan Month'] = np.where(monthly_data['Overall Month'] > construction_term, monthly_data['Overall Month'] - construction_term, 0)"
   ]
  },
  {
   "cell_type": "code",
   "execution_count": 4,
   "metadata": {},
   "outputs": [],
   "source": [
    "# Calculate home value\n",
    "monthly_data['Home Value'] = np.where(monthly_data['Overall Month'] <= construction_term, 0, completed_value * (e**(home_appreciation_month * (monthly_data['Loan Month']))))\n",
    "\n",
    "# Calculate loan value\n",
    "monthly_data['Loan Value'] = np.where(monthly_data['Loan Month'] != 0, total_loan_amount * (((1 + loan_rate_monthly) ** (loan_term_months)) - ((1 + loan_rate_monthly)**(monthly_data['Loan Month'] - 1))) / ((1 + loan_rate_monthly)**(loan_term_months) - 1), total_loan_amount)"
   ]
  },
  {
   "cell_type": "code",
   "execution_count": 5,
   "metadata": {},
   "outputs": [],
   "source": [
    "# Calculate disbursement payments in a linear fashion\n",
    "monthly_data['Construction Disbursements'] = np.where(monthly_data['Overall Month'] <= construction_term, total_loan_amount / construction_term, 0)"
   ]
  },
  {
   "cell_type": "code",
   "execution_count": 6,
   "metadata": {},
   "outputs": [],
   "source": [
    "# Calculate monthly payments\n",
    "monthly_data['Mortgage Payment'] = np.where(monthly_data['Overall Month'] > construction_term, total_loan_amount * (loan_rate_monthly * ((1 + loan_rate_monthly)**loan_term_months)) / ((1 + loan_rate_monthly)**loan_term_months - 1), 0)\n",
    "\n",
    "# Calculate interest payment\n",
    "monthly_data['Interest Payment'] = np.where(monthly_data['Overall Month'] <= construction_term, monthly_data['Construction Disbursements'].cumsum() * loan_rate_monthly, monthly_data['Loan Value'] * loan_rate_monthly)\n",
    "monthly_data['Cumulative Interest Payments'] = monthly_data['Interest Payment'].cumsum()\n",
    "\n",
    "# Calculate principal payments\n",
    "monthly_data['Principal Payment'] = np.where(monthly_data['Overall Month'] > construction_term, monthly_data['Mortgage Payment'] - monthly_data['Interest Payment'], 0)\n",
    "monthly_data['Cumulative Principal Payments'] = monthly_data['Principal Payment'].cumsum()"
   ]
  },
  {
   "cell_type": "code",
   "execution_count": 21,
   "metadata": {},
   "outputs": [],
   "source": [
    "# Calculate property taxes\n",
    "monthly_data['Property Tax Payment'] = np.where(monthly_data['Overall Month'] > construction_term, (((monthly_data['Home Value'] * assessment_rate) * (mill_levy / 1000)) / 12), 0)\n",
    "monthly_data['Cumulative Property Taxes'] = monthly_data['Property Tax Payment'].cumsum()"
   ]
  },
  {
   "cell_type": "code",
   "execution_count": 23,
   "metadata": {},
   "outputs": [],
   "source": [
    "# Calculate total home payments\n",
    "monthly_data['Total Home Payments'] = monthly_data['Interest Payment'] + monthly_data['Principal Payment'] + monthly_data['Property Tax Payment']\n",
    "monthly_data['Cumulative Home Payments'] = monthly_data['Total Home Payments'].cumsum() + down_payment\n",
    "\n",
    "# Calculate equity metrics\n",
    "monthly_data['Equity Ownership Proportion'] = 1- (monthly_data['Loan Value'] / total_loan_amount)\n",
    "monthly_data['Equity Value'] = monthly_data['Equity Ownership Proportion'] * monthly_data['Home Value']"
   ]
  },
  {
   "cell_type": "code",
   "execution_count": 24,
   "metadata": {},
   "outputs": [
    {
     "output_type": "execute_result",
     "data": {
      "text/plain": [
       "     Overall Month  Construction Month  Loan Month     Home Value  \\\n",
       "0                1                   1           0       0.000000   \n",
       "1                2                   2           0       0.000000   \n",
       "2                3                   3           0       0.000000   \n",
       "3                4                   4           0       0.000000   \n",
       "4                5                   5           0       0.000000   \n",
       "..             ...                 ...         ...            ...   \n",
       "188            189                   0         177  627210.666016   \n",
       "189            190                   0         178  629829.495897   \n",
       "190            191                   0         179  632459.260335   \n",
       "191            192                   0         180  635100.004984   \n",
       "192            193                   0         181  637751.775690   \n",
       "\n",
       "        Loan Value  Construction Disbursements  Mortgage Payment  \\\n",
       "0    160000.000000                13333.333333          0.000000   \n",
       "1    160000.000000                13333.333333          0.000000   \n",
       "2    160000.000000                13333.333333          0.000000   \n",
       "3    160000.000000                13333.333333          0.000000   \n",
       "4    160000.000000                13333.333333          0.000000   \n",
       "..             ...                         ...               ...   \n",
       "188    4694.814175                    0.000000       1183.500681   \n",
       "189    3526.962875                    0.000000       1183.500681   \n",
       "190    2355.218737                    0.000000       1183.500681   \n",
       "191    1179.568785                    0.000000       1183.500681   \n",
       "192       0.000000                    0.000000       1183.500681   \n",
       "\n",
       "     Interest Payment  Cumulative Interest Payments  Principal Payment  \\\n",
       "0           44.444444                     44.444444           0.000000   \n",
       "1           88.888889                    133.333333           0.000000   \n",
       "2          133.333333                    266.666667           0.000000   \n",
       "3          177.777778                    444.444444           0.000000   \n",
       "4          222.222222                    666.666667           0.000000   \n",
       "..                ...                           ...                ...   \n",
       "188         15.649381                  56473.250074        1167.851300   \n",
       "189         11.756543                  56485.006617        1171.744138   \n",
       "190          7.850729                  56492.857346        1175.649952   \n",
       "191          3.931896                  56496.789242        1179.568785   \n",
       "192          0.000000                  56496.789242        1183.500681   \n",
       "\n",
       "     Cumulative Principal Payments  Total Home Payments  \\\n",
       "0                         0.000000            44.444444   \n",
       "1                         0.000000            88.888889   \n",
       "2                         0.000000           133.333333   \n",
       "3                         0.000000           177.777778   \n",
       "4                         0.000000           222.222222   \n",
       "..                             ...                  ...   \n",
       "188                  156473.037125          1531.079925   \n",
       "189                  157644.781263          1532.531193   \n",
       "190                  158820.431215          1533.988521   \n",
       "191                  160000.000000          1535.451934   \n",
       "192                  161183.500681          1536.921457   \n",
       "\n",
       "     Cumulative Home Payments  Equity Ownership Proportion   Equity Valye  \\\n",
       "0                40044.444444                     0.000000       0.000000   \n",
       "1                40133.333333                     0.000000       0.000000   \n",
       "2                40266.666667                     0.000000       0.000000   \n",
       "3                40444.444444                     0.000000       0.000000   \n",
       "4                40666.666667                     0.000000       0.000000   \n",
       "..                        ...                          ...            ...   \n",
       "188             296556.033363                     0.970657  608806.681480   \n",
       "189             298088.564556                     0.977956  615945.838088   \n",
       "190             299622.553077                     0.985280  623149.385958   \n",
       "191             301158.005011                     0.992628  630417.854101   \n",
       "192             302694.926468                     1.000000  637751.775690   \n",
       "\n",
       "      Equity Value  Property Tax Payment  Cumulative Property Taxes  \n",
       "0         0.000000              0.000000                   0.000000  \n",
       "1         0.000000              0.000000                   0.000000  \n",
       "2         0.000000              0.000000                   0.000000  \n",
       "3         0.000000              0.000000                   0.000000  \n",
       "4         0.000000              0.000000                   0.000000  \n",
       "..             ...                   ...                        ...  \n",
       "188  608806.681480            347.579244               43609.746164  \n",
       "189  615945.838088            349.030512               43958.776676  \n",
       "190  623149.385958            350.487840               44309.264516  \n",
       "191  630417.854101            351.951253               44661.215769  \n",
       "192  637751.775690            353.420776               45014.636545  \n",
       "\n",
       "[193 rows x 18 columns]"
      ],
      "text/html": "<div>\n<style scoped>\n    .dataframe tbody tr th:only-of-type {\n        vertical-align: middle;\n    }\n\n    .dataframe tbody tr th {\n        vertical-align: top;\n    }\n\n    .dataframe thead th {\n        text-align: right;\n    }\n</style>\n<table border=\"1\" class=\"dataframe\">\n  <thead>\n    <tr style=\"text-align: right;\">\n      <th></th>\n      <th>Overall Month</th>\n      <th>Construction Month</th>\n      <th>Loan Month</th>\n      <th>Home Value</th>\n      <th>Loan Value</th>\n      <th>Construction Disbursements</th>\n      <th>Mortgage Payment</th>\n      <th>Interest Payment</th>\n      <th>Cumulative Interest Payments</th>\n      <th>Principal Payment</th>\n      <th>Cumulative Principal Payments</th>\n      <th>Total Home Payments</th>\n      <th>Cumulative Home Payments</th>\n      <th>Equity Ownership Proportion</th>\n      <th>Equity Valye</th>\n      <th>Equity Value</th>\n      <th>Property Tax Payment</th>\n      <th>Cumulative Property Taxes</th>\n    </tr>\n  </thead>\n  <tbody>\n    <tr>\n      <th>0</th>\n      <td>1</td>\n      <td>1</td>\n      <td>0</td>\n      <td>0.000000</td>\n      <td>160000.000000</td>\n      <td>13333.333333</td>\n      <td>0.000000</td>\n      <td>44.444444</td>\n      <td>44.444444</td>\n      <td>0.000000</td>\n      <td>0.000000</td>\n      <td>44.444444</td>\n      <td>40044.444444</td>\n      <td>0.000000</td>\n      <td>0.000000</td>\n      <td>0.000000</td>\n      <td>0.000000</td>\n      <td>0.000000</td>\n    </tr>\n    <tr>\n      <th>1</th>\n      <td>2</td>\n      <td>2</td>\n      <td>0</td>\n      <td>0.000000</td>\n      <td>160000.000000</td>\n      <td>13333.333333</td>\n      <td>0.000000</td>\n      <td>88.888889</td>\n      <td>133.333333</td>\n      <td>0.000000</td>\n      <td>0.000000</td>\n      <td>88.888889</td>\n      <td>40133.333333</td>\n      <td>0.000000</td>\n      <td>0.000000</td>\n      <td>0.000000</td>\n      <td>0.000000</td>\n      <td>0.000000</td>\n    </tr>\n    <tr>\n      <th>2</th>\n      <td>3</td>\n      <td>3</td>\n      <td>0</td>\n      <td>0.000000</td>\n      <td>160000.000000</td>\n      <td>13333.333333</td>\n      <td>0.000000</td>\n      <td>133.333333</td>\n      <td>266.666667</td>\n      <td>0.000000</td>\n      <td>0.000000</td>\n      <td>133.333333</td>\n      <td>40266.666667</td>\n      <td>0.000000</td>\n      <td>0.000000</td>\n      <td>0.000000</td>\n      <td>0.000000</td>\n      <td>0.000000</td>\n    </tr>\n    <tr>\n      <th>3</th>\n      <td>4</td>\n      <td>4</td>\n      <td>0</td>\n      <td>0.000000</td>\n      <td>160000.000000</td>\n      <td>13333.333333</td>\n      <td>0.000000</td>\n      <td>177.777778</td>\n      <td>444.444444</td>\n      <td>0.000000</td>\n      <td>0.000000</td>\n      <td>177.777778</td>\n      <td>40444.444444</td>\n      <td>0.000000</td>\n      <td>0.000000</td>\n      <td>0.000000</td>\n      <td>0.000000</td>\n      <td>0.000000</td>\n    </tr>\n    <tr>\n      <th>4</th>\n      <td>5</td>\n      <td>5</td>\n      <td>0</td>\n      <td>0.000000</td>\n      <td>160000.000000</td>\n      <td>13333.333333</td>\n      <td>0.000000</td>\n      <td>222.222222</td>\n      <td>666.666667</td>\n      <td>0.000000</td>\n      <td>0.000000</td>\n      <td>222.222222</td>\n      <td>40666.666667</td>\n      <td>0.000000</td>\n      <td>0.000000</td>\n      <td>0.000000</td>\n      <td>0.000000</td>\n      <td>0.000000</td>\n    </tr>\n    <tr>\n      <th>...</th>\n      <td>...</td>\n      <td>...</td>\n      <td>...</td>\n      <td>...</td>\n      <td>...</td>\n      <td>...</td>\n      <td>...</td>\n      <td>...</td>\n      <td>...</td>\n      <td>...</td>\n      <td>...</td>\n      <td>...</td>\n      <td>...</td>\n      <td>...</td>\n      <td>...</td>\n      <td>...</td>\n      <td>...</td>\n      <td>...</td>\n    </tr>\n    <tr>\n      <th>188</th>\n      <td>189</td>\n      <td>0</td>\n      <td>177</td>\n      <td>627210.666016</td>\n      <td>4694.814175</td>\n      <td>0.000000</td>\n      <td>1183.500681</td>\n      <td>15.649381</td>\n      <td>56473.250074</td>\n      <td>1167.851300</td>\n      <td>156473.037125</td>\n      <td>1531.079925</td>\n      <td>296556.033363</td>\n      <td>0.970657</td>\n      <td>608806.681480</td>\n      <td>608806.681480</td>\n      <td>347.579244</td>\n      <td>43609.746164</td>\n    </tr>\n    <tr>\n      <th>189</th>\n      <td>190</td>\n      <td>0</td>\n      <td>178</td>\n      <td>629829.495897</td>\n      <td>3526.962875</td>\n      <td>0.000000</td>\n      <td>1183.500681</td>\n      <td>11.756543</td>\n      <td>56485.006617</td>\n      <td>1171.744138</td>\n      <td>157644.781263</td>\n      <td>1532.531193</td>\n      <td>298088.564556</td>\n      <td>0.977956</td>\n      <td>615945.838088</td>\n      <td>615945.838088</td>\n      <td>349.030512</td>\n      <td>43958.776676</td>\n    </tr>\n    <tr>\n      <th>190</th>\n      <td>191</td>\n      <td>0</td>\n      <td>179</td>\n      <td>632459.260335</td>\n      <td>2355.218737</td>\n      <td>0.000000</td>\n      <td>1183.500681</td>\n      <td>7.850729</td>\n      <td>56492.857346</td>\n      <td>1175.649952</td>\n      <td>158820.431215</td>\n      <td>1533.988521</td>\n      <td>299622.553077</td>\n      <td>0.985280</td>\n      <td>623149.385958</td>\n      <td>623149.385958</td>\n      <td>350.487840</td>\n      <td>44309.264516</td>\n    </tr>\n    <tr>\n      <th>191</th>\n      <td>192</td>\n      <td>0</td>\n      <td>180</td>\n      <td>635100.004984</td>\n      <td>1179.568785</td>\n      <td>0.000000</td>\n      <td>1183.500681</td>\n      <td>3.931896</td>\n      <td>56496.789242</td>\n      <td>1179.568785</td>\n      <td>160000.000000</td>\n      <td>1535.451934</td>\n      <td>301158.005011</td>\n      <td>0.992628</td>\n      <td>630417.854101</td>\n      <td>630417.854101</td>\n      <td>351.951253</td>\n      <td>44661.215769</td>\n    </tr>\n    <tr>\n      <th>192</th>\n      <td>193</td>\n      <td>0</td>\n      <td>181</td>\n      <td>637751.775690</td>\n      <td>0.000000</td>\n      <td>0.000000</td>\n      <td>1183.500681</td>\n      <td>0.000000</td>\n      <td>56496.789242</td>\n      <td>1183.500681</td>\n      <td>161183.500681</td>\n      <td>1536.921457</td>\n      <td>302694.926468</td>\n      <td>1.000000</td>\n      <td>637751.775690</td>\n      <td>637751.775690</td>\n      <td>353.420776</td>\n      <td>45014.636545</td>\n    </tr>\n  </tbody>\n</table>\n<p>193 rows × 18 columns</p>\n</div>"
     },
     "metadata": {},
     "execution_count": 24
    }
   ],
   "source": [
    "pd.set_option(\"max_rows\", 24)\n",
    "monthly_data"
   ]
  }
 ]
}